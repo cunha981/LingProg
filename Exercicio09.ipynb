{
 "cells": [
  {
   "cell_type": "markdown",
   "metadata": {},
   "source": [
    "1 Implemente um gerador infinito de números primos.\n",
    "\n",
    "Ex:\n",
    "i = 0\n",
    "while i < 10:\n",
    "    print(gera_primos())\n",
    "    i += 1\n",
    "Este código imprime os 10 primeiros números primos, isto é: 1, 2, 3, 5, 7, 11, 13, 17,\n",
    "19, 23."
   ]
  },
  {
   "cell_type": "code",
   "execution_count": 4,
   "metadata": {},
   "outputs": [
    {
     "name": "stdout",
     "output_type": "stream",
     "text": [
      "2\n",
      "3\n",
      "5\n",
      "7\n",
      "11\n",
      "13\n",
      "17\n",
      "19\n",
      "23\n",
      "29\n"
     ]
    }
   ],
   "source": [
    "import math\n",
    "\n",
    "def gera_primos():\n",
    "    num = 1\n",
    "    while True:\n",
    "        if isPrimo(num):\n",
    "            yield num\n",
    "        num += 1\n",
    "        \n",
    "def isPrimo(n):\n",
    "    start = 2;\n",
    "    while start <= math.sqrt(n):\n",
    "        if n % start < 1:\n",
    "            return False;\n",
    "        start += 1;\n",
    "    return n > 1;\n",
    "    \n",
    "g = gera_primos()\n",
    "i = 0\n",
    "while i < 10:\n",
    "    print(g.send(None))\n",
    "    i += 1"
   ]
  },
  {
   "cell_type": "markdown",
   "metadata": {},
   "source": [
    "2 Implementar um gerador que leia um arquivo e retorne uma lista de tuplas com os dados (o separador de campo do arquivo é virgula), eliminando as linhas vazias. Caso ocorra algum problema, imprima uma mensagem de aviso e encerre o programa. Use o exemplo abaixo como arquivo de entrada: Ex:\n",
    "\n",
    "Entrada:\n",
    "teste.txt\n",
    "1,vermelho,2,verde,3,amarelo,4,roxo\n",
    "5,verde,6,preto,7,laranja,8,amarelo\n",
    "9,preto,10,roxo,11,roxo,12,branco\n",
    "\n",
    "Chamada:\n",
    "gera_tupla(teste.txt)\n",
    "\n",
    "Retorno:\n",
    "[(1,'vermelho'),(2,'verde'),(3,'amarelo'),(4,'roxo'),(5,'verde\n",
    "'),(6,'preto'),(7,'laranja'),(8,'amarelo'),(9,'preto'),(10,'ro\n",
    "xo'),(11,'roxo'),(12,'branco')]"
   ]
  },
  {
   "cell_type": "code",
   "execution_count": 20,
   "metadata": {},
   "outputs": [
    {
     "name": "stdout",
     "output_type": "stream",
     "text": [
      "['1', 'vermelho', '2', 'verde', '3', 'amarelo', '4', 'roxo', '5', 'verde', '6', 'preto', '7', 'laranja', '8', 'amarelo', '9', 'preto', '10', 'roxo', '11', 'roxo', '12', 'branco']\n"
     ]
    }
   ],
   "source": [
    "def gera_tupla(file):\n",
    "    f = open(file,'r')\n",
    "    texto = f.readlines()\n",
    "    tupla = []\n",
    "    \n",
    "    x=0\n",
    "    while x < len(texto):\n",
    "        for i in texto[x].split(','):\n",
    "            tupla.append(i.replace('\\n',''))\n",
    "        x += 1\n",
    "    f.close()\n",
    "    return tupla\n",
    "print(gera_tupla('teste.txt'))"
   ]
  },
  {
   "cell_type": "markdown",
   "metadata": {},
   "source": [
    "3 Implementar dois geradores e rodá-los em paralelo (coroutine) para processar dois arquivos e gerar tuplas. O primeiro é similar ao do exercício 2. O segundo processa outro arquivo, também separado por vírgulas. No final, a lista gerada deve conter tuplas com 3 elementos. Use o exemplo baixo como base:\n",
    "\n",
    "Entrada:\n",
    "teste1.txt\n",
    "1,vermelho,2,verde,3,amarelo,4,roxo\n",
    "5,verde,6,preto,7,laranja,8,amarelo\n",
    "9,preto,10,roxo,11,roxo,12,branco\n",
    "\n",
    "teste2.txt\n",
    "0,1,0,0\n",
    "1,1,1,0\n",
    "1,0,0,1\n",
    "\n",
    "Chamada:\n",
    "gera_tupla1(teste1.txt), gera_tupla2(teste2.txt)\n",
    "\n",
    "Retorno:\n",
    "[(1,'vermelho',False),(2,'verde',True),(3,'amarelo',False),(4,\n",
    "'roxo',False),(5,'verde',True),(6,'preto',True),(7,'laranja',T\n",
    "rue),(8,'amarelo',False),(9,'preto',True),(10,'roxo',False),(1\n",
    "1,'roxo',False),(12,'branco',True)]"
   ]
  },
  {
   "cell_type": "code",
   "execution_count": 26,
   "metadata": {},
   "outputs": [],
   "source": [
    "def gera_tupla1(file):\n",
    "    f = open(file,'r')\n",
    "    texto = f.readlines()\n",
    "    tupla = []\n",
    "    \n",
    "    x=0\n",
    "    while x < len(texto):\n",
    "        for i in texto[x].split(','):\n",
    "            tupla.append(i.replace('\\n',''))\n",
    "        x += 1\n",
    "    f.close()\n",
    "    yield tupla"
   ]
  },
  {
   "cell_type": "markdown",
   "metadata": {},
   "source": [
    "4 Escreva um generator que crie um fluxo infinito de inteiros a partir de um valor inicial dado com passo 5.\n",
    "Ex: gera_inteiros(7) = 12, 17, 22, 27, ..."
   ]
  },
  {
   "cell_type": "code",
   "execution_count": 21,
   "metadata": {},
   "outputs": [
    {
     "name": "stdout",
     "output_type": "stream",
     "text": [
      "7\n",
      "12\n",
      "17\n",
      "22\n",
      "27\n",
      "32\n",
      "37\n",
      "42\n",
      "47\n",
      "52\n"
     ]
    }
   ],
   "source": [
    "def gera_inteiros(num):\n",
    "    ret = num + 5\n",
    "    yield ret\n",
    "    while True:\n",
    "        ret += 5\n",
    "        yield ret\n",
    "    \n",
    "g = gera_inteiros(2)\n",
    "i = 0\n",
    "while i < 10:\n",
    "    print(g.send(None))\n",
    "    i += 1"
   ]
  },
  {
   "cell_type": "markdown",
   "metadata": {},
   "source": [
    "5 Estenda o generator do exercício 4 em uma coroutine que permita que a mudança do passo seja feita de fora (use send()).\n",
    "Ex: gera_inteiros_flex(7) = 12, 17, 22, 24, 26, 28, 30...\n",
    "Entre 22 e 24 o passo foi alterado de 5 para 2."
   ]
  },
  {
   "cell_type": "code",
   "execution_count": 23,
   "metadata": {},
   "outputs": [
    {
     "name": "stdout",
     "output_type": "stream",
     "text": [
      "12\n",
      "17\n",
      "22\n",
      "24\n",
      "26\n",
      "28\n",
      "30\n"
     ]
    }
   ],
   "source": [
    "def gera_inteiros_flex(num):\n",
    "    ret = num + 5\n",
    "    yield ret\n",
    "    while True:\n",
    "        passo = yield\n",
    "        ret += passo\n",
    "        yield ret\n",
    "    \n",
    "g = gera_inteiros_flex(7)\n",
    "print(g.send(None))\n",
    "\n",
    "i = 0\n",
    "while i < 2:\n",
    "    next(g)\n",
    "    print(g.send(5))\n",
    "    i += 1\n",
    "\n",
    "i = 0\n",
    "while i < 4:\n",
    "    next(g)\n",
    "    print(g.send(2))\n",
    "    i += 1"
   ]
  }
 ],
 "metadata": {
  "kernelspec": {
   "display_name": "Python 3",
   "language": "python",
   "name": "python3"
  },
  "language_info": {
   "codemirror_mode": {
    "name": "ipython",
    "version": 3
   },
   "file_extension": ".py",
   "mimetype": "text/x-python",
   "name": "python",
   "nbconvert_exporter": "python",
   "pygments_lexer": "ipython3",
   "version": "3.6.4"
  }
 },
 "nbformat": 4,
 "nbformat_minor": 2
}
